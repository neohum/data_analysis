{
 "cells": [
  {
   "cell_type": "code",
   "execution_count": 4,
   "metadata": {},
   "outputs": [],
   "source": [
    "%run comon.ipynb"
   ]
  },
  {
   "cell_type": "code",
   "execution_count": 5,
   "metadata": {},
   "outputs": [],
   "source": [
    "word = '제주도맛집'\n",
    "url = insta_searching(word)"
   ]
  },
  {
   "cell_type": "code",
   "execution_count": 7,
   "metadata": {},
   "outputs": [],
   "source": [
    "driver.get(url)\n",
    "time.sleep(3)"
   ]
  },
  {
   "cell_type": "code",
   "execution_count": 8,
   "metadata": {},
   "outputs": [],
   "source": [
    "select_first(driver)"
   ]
  },
  {
   "cell_type": "code",
   "execution_count": 9,
   "metadata": {},
   "outputs": [],
   "source": [
    "results = []"
   ]
  },
  {
   "cell_type": "code",
   "execution_count": 10,
   "metadata": {},
   "outputs": [
    {
     "ename": "IndexError",
     "evalue": "list index out of range",
     "output_type": "error",
     "traceback": [
      "\u001b[1;31m---------------------------------------------------------------------------\u001b[0m",
      "\u001b[1;31mIndexError\u001b[0m                                Traceback (most recent call last)",
      "\u001b[1;32m<ipython-input-10-5ced25266df9>\u001b[0m in \u001b[0;36m<module>\u001b[1;34m\u001b[0m\n\u001b[0;32m      1\u001b[0m \u001b[0mtarget\u001b[0m \u001b[1;33m=\u001b[0m \u001b[1;36m500\u001b[0m\u001b[1;33m\u001b[0m\u001b[0m\n\u001b[0;32m      2\u001b[0m \u001b[1;32mfor\u001b[0m \u001b[0mi\u001b[0m \u001b[1;32min\u001b[0m \u001b[0mrange\u001b[0m\u001b[1;33m(\u001b[0m\u001b[0mtarget\u001b[0m\u001b[1;33m)\u001b[0m\u001b[1;33m:\u001b[0m\u001b[1;33m\u001b[0m\u001b[0m\n\u001b[1;32m----> 3\u001b[1;33m     \u001b[0mdata\u001b[0m \u001b[1;33m=\u001b[0m \u001b[0mget_content\u001b[0m\u001b[1;33m(\u001b[0m\u001b[0mdriver\u001b[0m\u001b[1;33m)\u001b[0m\u001b[1;33m\u001b[0m\u001b[0m\n\u001b[0m\u001b[0;32m      4\u001b[0m     \u001b[0mresults\u001b[0m\u001b[1;33m.\u001b[0m\u001b[0mappend\u001b[0m\u001b[1;33m(\u001b[0m\u001b[0mdata\u001b[0m\u001b[1;33m)\u001b[0m\u001b[1;33m\u001b[0m\u001b[0m\n\u001b[0;32m      5\u001b[0m     \u001b[0mmove_next\u001b[0m\u001b[1;33m(\u001b[0m\u001b[0mdriver\u001b[0m\u001b[1;33m)\u001b[0m\u001b[1;33m\u001b[0m\u001b[0m\n",
      "\u001b[1;32m<ipython-input-4-9fe6a192ff7d>\u001b[0m in \u001b[0;36mget_content\u001b[1;34m(driver)\u001b[0m\n\u001b[0;32m     10\u001b[0m         \u001b[0mcontent\u001b[0m \u001b[1;33m=\u001b[0m \u001b[1;34m' '\u001b[0m\u001b[1;33m\u001b[0m\u001b[0m\n\u001b[0;32m     11\u001b[0m     \u001b[0mtags\u001b[0m \u001b[1;33m=\u001b[0m \u001b[0mre\u001b[0m\u001b[1;33m.\u001b[0m\u001b[0mfindall\u001b[0m\u001b[1;33m(\u001b[0m\u001b[1;34mr'#[^\\s#.\\\\]+'\u001b[0m\u001b[1;33m,\u001b[0m \u001b[0mcontent\u001b[0m\u001b[1;33m)\u001b[0m\u001b[1;33m\u001b[0m\u001b[0m\n\u001b[1;32m---> 12\u001b[1;33m     \u001b[0mdate\u001b[0m \u001b[1;33m=\u001b[0m \u001b[0msoup\u001b[0m\u001b[1;33m.\u001b[0m\u001b[0mselect\u001b[0m\u001b[1;33m(\u001b[0m\u001b[1;34m'time._1o9PC.Nzb55'\u001b[0m\u001b[1;33m)\u001b[0m\u001b[1;33m[\u001b[0m\u001b[1;36m0\u001b[0m\u001b[1;33m]\u001b[0m\u001b[1;33m[\u001b[0m\u001b[1;34m'datetime'\u001b[0m\u001b[1;33m]\u001b[0m\u001b[1;33m[\u001b[0m\u001b[1;33m:\u001b[0m\u001b[1;36m10\u001b[0m\u001b[1;33m]\u001b[0m\u001b[1;33m\u001b[0m\u001b[0m\n\u001b[0m\u001b[0;32m     13\u001b[0m     \u001b[1;32mtry\u001b[0m\u001b[1;33m:\u001b[0m\u001b[1;33m\u001b[0m\u001b[0m\n\u001b[0;32m     14\u001b[0m         \u001b[0mlike\u001b[0m \u001b[1;33m=\u001b[0m \u001b[0msoup\u001b[0m\u001b[1;33m.\u001b[0m\u001b[0mselect\u001b[0m\u001b[1;33m(\u001b[0m\u001b[1;34m'div.Nm9Fw > button'\u001b[0m\u001b[1;33m)\u001b[0m\u001b[1;33m[\u001b[0m\u001b[1;36m0\u001b[0m\u001b[1;33m]\u001b[0m\u001b[1;33m.\u001b[0m\u001b[0mtext\u001b[0m\u001b[1;33m[\u001b[0m\u001b[1;36m4\u001b[0m\u001b[1;33m:\u001b[0m\u001b[1;33m-\u001b[0m\u001b[1;36m1\u001b[0m\u001b[1;33m]\u001b[0m\u001b[1;33m\u001b[0m\u001b[0m\n",
      "\u001b[1;31mIndexError\u001b[0m: list index out of range"
     ]
    }
   ],
   "source": [
    "target = 500\n",
    "for i in range(target):\n",
    "    data = get_content(driver)\n",
    "    results.append(data)\n",
    "    move_next(driver)"
   ]
  },
  {
   "cell_type": "code",
   "execution_count": 11,
   "metadata": {},
   "outputs": [
    {
     "name": "stdout",
     "output_type": "stream",
     "text": [
      "[['-로타리과자점 입니다. 오지 않을 것 같던 날이 결국 왔네요. 마지막 오픈 공지예요.쌀쌀하지만 그래도 볕이 좋은 금요일 아침, 오늘도 일찍 나와 준비를 마쳤어요!-날이 날이니만큼 조금 더 정성들여 디저트 만들었어요.오늘 디저트 최대수량으로 준비했어요(이랬는데 엄청 남으면 큰일...)오늘 많은 분들 얼굴 뵙고싶어요!\\U0001f970-마지막입니다! 오늘도 기다리고 있겠습니다🙌🏻', '2020-01-31', '484', '로타리과자점', []], ['❣꽃다발 보다는 튀김다발❣.예쁜데 맛은 더 좋은 제주프리또💐🍤🐙🦀🐚🍤🍻🍻 .오직 🌾제주프리또에서만 맛 볼수 있는 메뉴!정통 이태리식 튀김다발과 제철 제주해산물의 만남🍤🍻꽃다발 보다는 역시 튀김다발이죠😊.이태리밀가루인 세몰리나로 가장 건강하고 맛있게 튀겨낸 튀김요리랍니다☺️.제주프리또에서는 두꺼운 물반죽을 쓰지 않아요, 속에 부담없는 얇은 튀김옷과 싱싱하고 좋은 재료로 맛을 내요👍🏻.싱싱하고 몸에 좋은 제주산 해산물을 종류별로 (활전복, 쭈꾸미, 흰다리새우, 오징어, 황게, 알새우 등등) 즐길 수 있는 제주 프리또❤️.맥주 한 잔과 곁들이면 그 곳이 바로 천국😳🍻소중한 인연과 함께 프리또 한다발 드시러 오셔요👏🏻...<Frito Info>🌾한림, 한림공원, 협재해변, 금능해변과 가까워요🌾한림읍 금능5길 26 1층🌾AM11:30-20:00(재료소진시 마감); 테이블예약 및 포장문의는 010 6400 3184로 주세요...#협재맛집 #금능맛집 #한림맛집 #애월맛집 #제주맛집 #제주도맛집 #제주협재맛집 #협재해수욕장맛집 #한림공원맛집 #협재맛집추천 #한림맛집추천 #애월맛집추천 #제주맛집추천 #제주도맛집추천 #협재해수욕장ㅈ#새별오름 #제주도여행 #제주여행 #먹스타그램 #맛스타그램 #먹방스타그램 #먹스타 #맛스타 #맛집탐방 #맛집 #맛집스타그램 #제주 #jeju #제주프리또', '2020-01-30', '1,531', '', ['#협재맛집', '#금능맛집', '#한림맛집', '#애월맛집', '#제주맛집', '#제주도맛집', '#제주협재맛집', '#협재해수욕장맛집', '#한림공원맛집', '#협재맛집추천', '#한림맛집추천', '#애월맛집추천', '#제주맛집추천', '#제주도맛집추천', '#협재해수욕장ㅈ', '#새별오름', '#제주도여행', '#제주여행', '#먹스타그램', '#맛스타그램', '#먹방스타그램', '#먹스타', '#맛스타', '#맛집탐방', '#맛집', '#맛집스타그램', '#제주', '#jeju', '#제주프리또']]]\n"
     ]
    }
   ],
   "source": [
    "print(results[:2])"
   ]
  },
  {
   "cell_type": "code",
   "execution_count": 12,
   "metadata": {},
   "outputs": [],
   "source": [
    "results_df = pd.DataFrame(results)\n",
    "results_df.columns = ['content', 'data', 'like', 'place', 'tags']\n",
    "results_df.to_excel('insta.xlsx')"
   ]
  },
  {
   "cell_type": "code",
   "execution_count": 18,
   "metadata": {},
   "outputs": [
    {
     "data": {
      "text/plain": [
       "0                                                   []\n",
       "1    ['#협재맛집', '#금능맛집', '#한림맛집', '#애월맛집', '#제주맛집', ...\n",
       "2    ['#제주가성비맛집', '#보말칼국수', '#제주도민맛집', '#보리밥과수제비', ...\n",
       "Name: tags, dtype: object"
      ]
     },
     "execution_count": 18,
     "metadata": {},
     "output_type": "execute_result"
    }
   ],
   "source": [
    "raw_total = pd.read_excel('insta.xlsx')\n",
    "raw_total['tags'][:3]"
   ]
  },
  {
   "cell_type": "code",
   "execution_count": 19,
   "metadata": {},
   "outputs": [],
   "source": [
    "tags_total = []\n",
    "\n",
    "for tags in raw_total['tags']:\n",
    "    tags_list = tags[2:-2].split(\"', '\")\n",
    "    for tag in tags_list:\n",
    "        tags_total.append(tag)"
   ]
  },
  {
   "cell_type": "code",
   "execution_count": 21,
   "metadata": {},
   "outputs": [],
   "source": [
    "from collections import Counter"
   ]
  },
  {
   "cell_type": "code",
   "execution_count": 22,
   "metadata": {},
   "outputs": [],
   "source": [
    "tag_counts = Counter(tags_total)"
   ]
  },
  {
   "cell_type": "code",
   "execution_count": 23,
   "metadata": {},
   "outputs": [
    {
     "data": {
      "text/plain": [
       "[('#제주도맛집', 195),\n",
       " ('#제주맛집', 114),\n",
       " ('#애월맛집', 89),\n",
       " ('#한림맛집', 82),\n",
       " ('#제주도여행', 63),\n",
       " ('#제주맛집추천', 59),\n",
       " ('#협재맛집', 55),\n",
       " ('#정직한돈', 52),\n",
       " ('#제주여행', 47),\n",
       " ('#협재해수욕장', 37),\n",
       " ('#제주도', 37),\n",
       " ('#제주도민맛집', 35),\n",
       " ('#제주시맛집', 34),\n",
       " ('#제주브런치맛집', 32),\n",
       " ('#제주협재맛집', 31),\n",
       " ('#협재해수욕장맛집', 31),\n",
       " ('#제주애월맛집', 29),\n",
       " ('#애월핫플', 29),\n",
       " ('#제주핫플', 28),\n",
       " ('#제주공항근처맛집', 23),\n",
       " ('#제주공항맛집', 22),\n",
       " ('#애월맛집추천', 21),\n",
       " ('#곽지맛집', 21),\n",
       " ('#제주', 20),\n",
       " ('#사이카레', 20),\n",
       " ('#애월해안도로맛집', 19),\n",
       " ('#제주브런치카페', 18),\n",
       " ('#애월카페', 18),\n",
       " ('#제주디저트맛집', 17),\n",
       " ('#귀더크', 17),\n",
       " ('#제주귀더크', 17),\n",
       " ('#제주흑돼지맛집', 16),\n",
       " ('#애월커피', 16),\n",
       " ('#한림핫플', 16),\n",
       " ('#신상카페', 16),\n",
       " ('#제주커피', 16),\n",
       " ('#곽지해수욕장카페', 16),\n",
       " ('#해안도로카페', 16),\n",
       " ('#한림커피맛집', 16),\n",
       " ('#한림카페', 16),\n",
       " ('#브런치', 16),\n",
       " ('#대정카페', 16),\n",
       " ('#협재브런치카페', 16),\n",
       " ('#금능커피', 16),\n",
       " ('#곽지브런치맛집', 16),\n",
       " ('#한림브런치맛집', 16),\n",
       " ('#협재카페', 16),\n",
       " ('#애월브런치', 16),\n",
       " ('#애월브런치카페', 16),\n",
       " ('#제주도카페', 16)]"
      ]
     },
     "execution_count": 23,
     "metadata": {},
     "output_type": "execute_result"
    }
   ],
   "source": [
    "tag_counts.most_common(50)"
   ]
  },
  {
   "cell_type": "code",
   "execution_count": 24,
   "metadata": {},
   "outputs": [],
   "source": [
    "import matplotlib.pyplot as plt\n",
    "import seaborn as sns\n",
    "from matplotlib import font_manager, rc\n",
    "import sys\n",
    "\n",
    "if sys.platform in ['win32', 'win64']:\n",
    "    font_name = 'malgun gothic'\n",
    "elif sys.platform == 'darwin':\n",
    "    font_name = \"AppleGothic\"\n",
    "    \n",
    "rc('font', family = font_name)"
   ]
  },
  {
   "cell_type": "code",
   "execution_count": 26,
   "metadata": {},
   "outputs": [],
   "source": [
    "tag_counts_df = pd.DataFrame(tag_counts.most_common(30))\n",
    "tag_counts_df.columns = ['tags', 'counts']"
   ]
  },
  {
   "cell_type": "code",
   "execution_count": 27,
   "metadata": {},
   "outputs": [
    {
     "data": {
      "text/plain": [
       "<matplotlib.axes._subplots.AxesSubplot at 0x2aac1c40080>"
      ]
     },
     "execution_count": 27,
     "metadata": {},
     "output_type": "execute_result"
    },
    {
     "data": {
      "image/png": "[encoded data removed]",
      "text/plain": [
       "<Figure size 720x576 with 1 Axes>"
      ]
     },
     "metadata": {
      "needs_background": "light"
     },
     "output_type": "display_data"
    }
   ],
   "source": [
    "plt.figure(figsize = (10, 8))\n",
    "sns.barplot(x = 'counts', y = 'tags', data = tag_counts_df)"
   ]
  },
  {
   "cell_type": "code",
   "execution_count": null,
   "metadata": {},
   "outputs": [],
   "source": []
  }
 ],
 "metadata": {
  "kernelspec": {
   "display_name": "Python 3",
   "language": "python",
   "name": "python3"
  },
  "language_info": {
   "codemirror_mode": {
    "name": "ipython",
    "version": 3
   },
   "file_extension": ".py",
   "mimetype": "text/x-python",
   "name": "python",
   "nbconvert_exporter": "python",
   "pygments_lexer": "ipython3",
   "version": "3.7.0b2"
  }
 },
 "nbformat": 4,
 "nbformat_minor": 4
}
