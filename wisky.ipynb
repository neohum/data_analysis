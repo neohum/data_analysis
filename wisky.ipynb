{
 "cells": [
  {
   "cell_type": "code",
   "execution_count": 32,
   "metadata": {},
   "outputs": [],
   "source": [
    "from selenium import webdriver"
   ]
  },
  {
   "cell_type": "code",
   "execution_count": 33,
   "metadata": {},
   "outputs": [],
   "source": [
    "from bs4 import BeautifulSoup"
   ]
  },
  {
   "cell_type": "code",
   "execution_count": 34,
   "metadata": {},
   "outputs": [],
   "source": [
    "options = webdriver.ChromeOptions()\n",
    "options.add_argument(\"lang=ko_KR\") # 한국어!"
   ]
  },
  {
   "cell_type": "code",
   "execution_count": 180,
   "metadata": {},
   "outputs": [],
   "source": [
    "driver = webdriver.Chrome('chromedriver.exe', options = options)"
   ]
  },
  {
   "cell_type": "code",
   "execution_count": 1,
   "metadata": {},
   "outputs": [
    {
     "ename": "NameError",
     "evalue": "name 'driver' is not defined",
     "output_type": "error",
     "traceback": [
      "\u001b[1;31m---------------------------------------------------------------------------\u001b[0m",
      "\u001b[1;31mNameError\u001b[0m                                 Traceback (most recent call last)",
      "\u001b[1;32m<ipython-input-1-9fe86ceb7eb1>\u001b[0m in \u001b[0;36m<module>\u001b[1;34m\u001b[0m\n\u001b[0;32m      1\u001b[0m \u001b[1;32mfor\u001b[0m \u001b[0mi\u001b[0m \u001b[1;32min\u001b[0m \u001b[0mrange\u001b[0m\u001b[1;33m(\u001b[0m\u001b[1;36m1\u001b[0m\u001b[1;33m,\u001b[0m \u001b[1;36m123\u001b[0m\u001b[1;33m)\u001b[0m\u001b[1;33m:\u001b[0m\u001b[1;33m\u001b[0m\u001b[0m\n\u001b[0;32m      2\u001b[0m     \u001b[0murl\u001b[0m \u001b[1;33m=\u001b[0m \u001b[1;34m'http://charme-du-vin.com/category/whisky/page/{0}/'\u001b[0m\u001b[1;33m.\u001b[0m\u001b[0mformat\u001b[0m\u001b[1;33m(\u001b[0m\u001b[0mi\u001b[0m\u001b[1;33m)\u001b[0m\u001b[1;33m\u001b[0m\u001b[0m\n\u001b[1;32m----> 3\u001b[1;33m     \u001b[0mdriver\u001b[0m\u001b[1;33m.\u001b[0m\u001b[0mget\u001b[0m\u001b[1;33m(\u001b[0m\u001b[0murl\u001b[0m\u001b[1;33m)\u001b[0m\u001b[1;33m\u001b[0m\u001b[0m\n\u001b[0m\u001b[0;32m      4\u001b[0m     \u001b[0mhtml\u001b[0m \u001b[1;33m=\u001b[0m \u001b[0mdriver\u001b[0m\u001b[1;33m.\u001b[0m\u001b[0mpage_source\u001b[0m\u001b[1;33m\u001b[0m\u001b[0m\n\u001b[0;32m      5\u001b[0m     \u001b[0msoup\u001b[0m \u001b[1;33m=\u001b[0m \u001b[0mBeautifulSoup\u001b[0m\u001b[1;33m(\u001b[0m\u001b[0mhtml\u001b[0m\u001b[1;33m,\u001b[0m \u001b[1;34m'html.parser'\u001b[0m\u001b[1;33m)\u001b[0m\u001b[1;33m\u001b[0m\u001b[0m\n",
      "\u001b[1;31mNameError\u001b[0m: name 'driver' is not defined"
     ]
    }
   ],
   "source": [
    "for i in range(1, 123):\n",
    "    url = 'http://charme-du-vin.com/category/whisky/page/{0}/'.format(i)\n",
    "    driver.get(url)\n",
    "    html = driver.page_source\n",
    "    soup = BeautifulSoup(html, 'html.parser')\n",
    "    contents = soup.select('.posts')\n",
    "    content = contents[0]\n",
    "    #print(content)"
   ]
  },
  {
   "cell_type": "code",
   "execution_count": 186,
   "metadata": {},
   "outputs": [],
   "source": [
    "from pandas import Series\n",
    "s = Series(data=content)\n",
    "s.to_excel(\"data.xlsx\")"
   ]
  },
  {
   "cell_type": "code",
   "execution_count": 105,
   "metadata": {},
   "outputs": [],
   "source": [
    "url = 'http://charme-du-vin.com/category/whisky/page/1/'\n",
    "driver.get(url)"
   ]
  },
  {
   "cell_type": "code",
   "execution_count": 106,
   "metadata": {},
   "outputs": [],
   "source": [
    "html = driver.page_source"
   ]
  },
  {
   "cell_type": "code",
   "execution_count": 107,
   "metadata": {},
   "outputs": [],
   "source": [
    "soup = BeautifulSoup(html, 'html.parser')"
   ]
  },
  {
   "cell_type": "code",
   "execution_count": 129,
   "metadata": {},
   "outputs": [],
   "source": [
    "contents = soup.select('.posts')"
   ]
  },
  {
   "cell_type": "code",
   "execution_count": 130,
   "metadata": {},
   "outputs": [],
   "source": [
    "#print(contents[0])"
   ]
  },
  {
   "cell_type": "code",
   "execution_count": 131,
   "metadata": {},
   "outputs": [],
   "source": [
    "content = contents[0]"
   ]
  },
  {
   "cell_type": "code",
   "execution_count": 177,
   "metadata": {},
   "outputs": [],
   "source": [
    "#content"
   ]
  },
  {
   "cell_type": "code",
   "execution_count": 146,
   "metadata": {},
   "outputs": [],
   "source": [
    "title = content.select('.post_title')[0].text"
   ]
  },
  {
   "cell_type": "code",
   "execution_count": 147,
   "metadata": {},
   "outputs": [
    {
     "data": {
      "text/plain": [
       "'スプリングバンク\\u3000１５Ｙ\\u3000４６°'"
      ]
     },
     "execution_count": 147,
     "metadata": {},
     "output_type": "execute_result"
    }
   ],
   "source": [
    "title"
   ]
  },
  {
   "cell_type": "code",
   "execution_count": 114,
   "metadata": {},
   "outputs": [],
   "source": [
    "category = content.select('.category')[0].text"
   ]
  },
  {
   "cell_type": "code",
   "execution_count": 115,
   "metadata": {},
   "outputs": [
    {
     "data": {
      "text/plain": [
       "'whisky, cambel-town, single-malt, scoth'"
      ]
     },
     "execution_count": 115,
     "metadata": {},
     "output_type": "execute_result"
    }
   ],
   "source": [
    "category"
   ]
  },
  {
   "cell_type": "code",
   "execution_count": 121,
   "metadata": {},
   "outputs": [
    {
     "data": {
      "text/plain": [
       "'http://charme-du-vin.com/2020/01/18018/'"
      ]
     },
     "execution_count": 121,
     "metadata": {},
     "output_type": "execute_result"
    }
   ],
   "source": [
    "links = content.select('div.post > a')[0]['href']\n",
    "links"
   ]
  },
  {
   "cell_type": "code",
   "execution_count": 123,
   "metadata": {},
   "outputs": [
    {
     "data": {
      "text/plain": [
       "'http://charme-du-vin.com/wp/wp-content/uploads/2020/01/WIN_20200117_15_26_33_Pro-280x280.jpg'"
      ]
     },
     "execution_count": 123,
     "metadata": {},
     "output_type": "execute_result"
    }
   ],
   "source": [
    "small_imgs = content.select('div.eyecatch > img')[0]['src']\n",
    "small_imgs"
   ]
  },
  {
   "cell_type": "code",
   "execution_count": 176,
   "metadata": {},
   "outputs": [
    {
     "name": "stdout",
     "output_type": "stream",
     "text": [
      "ブレッケンリッジ　スモールバッチ　４３° american, whisky http://charme-du-vin.com/2019/11/17141/ http://charme-du-vin.com/wp/wp-content/uploads/2019/11/WIN_20191102_15_02_33_Pro-280x280.jpg\n",
      "バレル　バーボン　９Ｙ　５４．７° american, whisky http://charme-du-vin.com/2019/11/17138/ http://charme-du-vin.com/wp/wp-content/uploads/2019/11/WIN_20191102_15_01_54_Pro-280x280.jpg\n",
      "スタッグＪＲ　ケンタッキーストレートバーボン　６３．２° american, whisky http://charme-du-vin.com/2019/11/17134/ http://charme-du-vin.com/wp/wp-content/uploads/2019/11/WIN_20191102_15_01_22_Pro-280x280.jpg\n",
      "スモークスタック　46° whisky, scoth, bottlers http://charme-du-vin.com/2019/11/17091/ http://charme-du-vin.com/wp/wp-content/uploads/2019/11/WIN_20191101_16_37_42_Pro-280x280.jpg\n",
      "エレメンツオブアイラ　ピート　アイラブレンデッドモルト　45… isly, whisky, scoth, blended-malt, bottlers http://charme-du-vin.com/2019/11/17089/ http://charme-du-vin.com/wp/wp-content/uploads/2019/11/WIN_20191101_16_36_50_Pro-280x280.jpg\n",
      "ラフロイグ　ロア　48° isly, whisky, single-malt, scoth http://charme-du-vin.com/2019/11/17087/ http://charme-du-vin.com/wp/wp-content/uploads/2019/11/WIN_20191101_16_35_38_Pro-280x280.jpg\n",
      "ボウモア　ヴォルト　50.1° isly, whisky, single-malt, scoth http://charme-du-vin.com/2019/11/17085/ http://charme-du-vin.com/wp/wp-content/uploads/2019/11/WIN_20191101_16_33_50_Pro-280x280.jpg\n",
      "グレンフィディック　２１Y　ラムカスク　43.2° whisky, single-malt, scoth, speyside http://charme-du-vin.com/2019/11/17083/ http://charme-du-vin.com/wp/wp-content/uploads/2019/11/WIN_20191101_16_33_03_Pro-280x280.jpg\n",
      "グレンファークラス　オロロソシェリーカスク　1995/199… whisky, single-malt, scoth, speyside http://charme-du-vin.com/2019/11/17081/ http://charme-du-vin.com/wp/wp-content/uploads/2019/11/WIN_20191101_16_31_02_Pro-280x280.jpg\n",
      "オールドプルトニー１５Y　46° whisky, single-malt, scoth, highland http://charme-du-vin.com/2019/11/17079/ http://charme-du-vin.com/wp/wp-content/uploads/2019/11/WIN_20191101_16_29_30_Pro-280x280.jpg\n",
      "グレングラント１５Ｙ　バッチストレングス　50° whisky, single-malt, scoth, speyside http://charme-du-vin.com/2019/11/17063/ http://charme-du-vin.com/wp/wp-content/uploads/2019/11/WIN_20191101_16_28_36_Pro-280x280.jpg\n"
     ]
    }
   ],
   "source": [
    "for i in range(1, 12):\n",
    "    title = content.select('.post_title')[i].text\n",
    "    category = content.select('.category')[i].text\n",
    "    links = content.select('div.post > a')[i]['href']\n",
    "    small_imgs = content.select('div.eyecatch > img')[i]['src']\n",
    "    print(title, category, links, small_imgs)"
   ]
  },
  {
   "cell_type": "code",
   "execution_count": 141,
   "metadata": {},
   "outputs": [
    {
     "data": {
      "text/plain": [
       "[<div class=\"posts\">\n",
       " <div class=\"post\">\n",
       " <a href=\"http://charme-du-vin.com/2020/01/18018/\">\n",
       " <div class=\"category\">whisky, cambel-town, single-malt, scoth</div>\n",
       " <div class=\"eyecatch\">\n",
       " <img src=\"http://charme-du-vin.com/wp/wp-content/uploads/2020/01/WIN_20200117_15_26_33_Pro-280x280.jpg\"/>\n",
       " </div>\n",
       " <div class=\"post_title\">スプリングバンク　１５Ｙ　４６°</div>\n",
       " </a>\n",
       " </div>\n",
       " <div class=\"post\">\n",
       " <a href=\"http://charme-du-vin.com/2020/01/18014/\">\n",
       " <div class=\"category\">isly, whisky, single-malt, scoth</div>\n",
       " <div class=\"eyecatch\">\n",
       " <img src=\"http://charme-du-vin.com/wp/wp-content/uploads/2020/01/WIN_20200117_15_26_09_Pro-280x280.jpg\"/>\n",
       " </div>\n",
       " <div class=\"post_title\">ボウモア　１８Ｙ　ディープ＆コンプレックス　４３°</div>\n",
       " </a>\n",
       " </div>\n",
       " <div class=\"post\">\n",
       " <a href=\"http://charme-du-vin.com/2020/01/17939/\">\n",
       " <div class=\"category\">sale, whisky, tequila-rum, bottlers</div>\n",
       " <div class=\"eyecatch\">\n",
       " <img src=\"http://charme-du-vin.com/wp/wp-content/uploads/2020/01/WIN_20200115_14_06_47_Pro-280x280.jpg\"/>\n",
       " </div>\n",
       " <div class=\"post_title\">ＳＡＬＥ！！　サマローリ　カリラ　２００７　４９° / トリ…</div>\n",
       " </a>\n",
       " </div>\n",
       " <div class=\"post\">\n",
       " <a href=\"http://charme-du-vin.com/2020/01/17935/\">\n",
       " <div class=\"category\">sale, whisky, single-malt, scoth, speyside</div>\n",
       " <div class=\"eyecatch\">\n",
       " <img src=\"http://charme-du-vin.com/wp/wp-content/uploads/2020/01/WIN_20200115_14_05_51_Pro-280x280.jpg\"/>\n",
       " </div>\n",
       " <div class=\"post_title\">ＳＡＬＥ！！　グレンアラヒー　１９９０　オロロソパンチョン　…</div>\n",
       " </a>\n",
       " </div>\n",
       " <div class=\"post\">\n",
       " <a href=\"http://charme-du-vin.com/2020/01/17922/\">\n",
       " <div class=\"category\">american, whisky</div>\n",
       " <div class=\"eyecatch\">\n",
       " <img src=\"http://charme-du-vin.com/wp/wp-content/uploads/2020/01/WIN_20200110_13_51_09_Pro-280x280.jpg\"/>\n",
       " </div>\n",
       " <div class=\"post_title\">ヴェリーオールドセントニック　ライ　エンシェントカスク　８Ｙ…</div>\n",
       " </a>\n",
       " </div>\n",
       " <div class=\"post\">\n",
       " <a href=\"http://charme-du-vin.com/2020/01/17918/\">\n",
       " <div class=\"category\">american, whisky</div>\n",
       " <div class=\"eyecatch\">\n",
       " <img src=\"http://charme-du-vin.com/wp/wp-content/uploads/2020/01/WIN_20200110_13_40_30_Pro-280x280.jpg\"/>\n",
       " </div>\n",
       " <div class=\"post_title\">レアパーフェクション　１４Ｙ　５０．３５°</div>\n",
       " </a>\n",
       " </div>\n",
       " <div class=\"post\">\n",
       " <a href=\"http://charme-du-vin.com/2020/01/17906/\">\n",
       " <div class=\"category\">american, whisky</div>\n",
       " <div class=\"eyecatch\">\n",
       " <img src=\"http://charme-du-vin.com/wp/wp-content/uploads/2020/01/WIN_20200110_13_38_05_Pro-280x280.jpg\"/>\n",
       " </div>\n",
       " <div class=\"post_title\">ワイルドターキー　ラッセルズリザーヴ　１０Ｙ　４５°</div>\n",
       " </a>\n",
       " </div>\n",
       " <div class=\"post\">\n",
       " <a href=\"http://charme-du-vin.com/2020/01/17903/\">\n",
       " <div class=\"category\">american, whisky</div>\n",
       " <div class=\"eyecatch\">\n",
       " <img src=\"http://charme-du-vin.com/wp/wp-content/uploads/2020/01/WIN_20200110_13_36_42_Pro-280x280.jpg\"/>\n",
       " </div>\n",
       " <div class=\"post_title\">ビブ＆タッカー　スモールバッチ　６Ｙ　４６°</div>\n",
       " </a>\n",
       " </div>\n",
       " <div class=\"post\">\n",
       " <a href=\"http://charme-du-vin.com/2020/01/17900/\">\n",
       " <div class=\"category\">american, whisky</div>\n",
       " <div class=\"eyecatch\">\n",
       " <img src=\"http://charme-du-vin.com/wp/wp-content/uploads/2020/01/WIN_20200110_13_36_13_Pro-280x280.jpg\"/>\n",
       " </div>\n",
       " <div class=\"post_title\">スタッグＪＲ　ケンタッキーストレートバーボン　６３．２０°</div>\n",
       " </a>\n",
       " </div>\n",
       " <div class=\"post\">\n",
       " <a href=\"http://charme-du-vin.com/2020/01/17896/\">\n",
       " <div class=\"category\">islands, whisky, single-malt, scoth</div>\n",
       " <div class=\"eyecatch\">\n",
       " <img src=\"http://charme-du-vin.com/wp/wp-content/uploads/2020/01/WIN_20200110_13_39_42_Pro-280x280.jpg\"/>\n",
       " </div>\n",
       " <div class=\"post_title\">タリスカー　１８Ｙ　４５．８°</div>\n",
       " </a>\n",
       " </div>\n",
       " <div class=\"post\">\n",
       " <a href=\"http://charme-du-vin.com/2020/01/17893/\">\n",
       " <div class=\"category\">whisky, cambel-town, single-malt, scoth</div>\n",
       " <div class=\"eyecatch\">\n",
       " <img src=\"http://charme-du-vin.com/wp/wp-content/uploads/2020/01/WIN_20200110_13_35_27_Pro-280x280.jpg\"/>\n",
       " </div>\n",
       " <div class=\"post_title\">スプリングバンク　１２Ｙ　カスクストレングス　５４．８°</div>\n",
       " </a>\n",
       " </div>\n",
       " <div class=\"post\">\n",
       " <a href=\"http://charme-du-vin.com/2020/01/17882/\">\n",
       " <div class=\"category\">isly, whisky, single-malt, scoth</div>\n",
       " <div class=\"eyecatch\">\n",
       " <img src=\"http://charme-du-vin.com/wp/wp-content/uploads/2020/01/WIN_20200109_13_50_50_Pro-280x280.jpg\"/>\n",
       " </div>\n",
       " <div class=\"post_title\">ボウモア　ダーケスト　１５Ｙ　４３° / ラガヴーリン　ディ…</div>\n",
       " </a>\n",
       " </div>\n",
       " </div>]"
      ]
     },
     "execution_count": 141,
     "metadata": {},
     "output_type": "execute_result"
    }
   ],
   "source": [
    "contents"
   ]
  },
  {
   "cell_type": "code",
   "execution_count": null,
   "metadata": {},
   "outputs": [],
   "source": []
  }
 ],
 "metadata": {
  "kernelspec": {
   "display_name": "Python 3",
   "language": "python",
   "name": "python3"
  },
  "language_info": {
   "codemirror_mode": {
    "name": "ipython",
    "version": 3
   },
   "file_extension": ".py",
   "mimetype": "text/x-python",
   "name": "python",
   "nbconvert_exporter": "python",
   "pygments_lexer": "ipython3",
   "version": "3.7.0b2"
  }
 },
 "nbformat": 4,
 "nbformat_minor": 4
}
