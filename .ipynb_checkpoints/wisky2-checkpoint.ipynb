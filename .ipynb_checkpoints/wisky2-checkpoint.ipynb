{
 "cells": [
  {
   "cell_type": "code",
   "execution_count": 1,
   "metadata": {},
   "outputs": [],
   "source": [
    "from selenium import webdriver"
   ]
  },
  {
   "cell_type": "code",
   "execution_count": 2,
   "metadata": {},
   "outputs": [],
   "source": [
    "from bs4 import BeautifulSoup"
   ]
  },
  {
   "cell_type": "code",
   "execution_count": 26,
   "metadata": {},
   "outputs": [],
   "source": [
    "from pandas import Series"
   ]
  },
  {
   "cell_type": "code",
   "execution_count": 3,
   "metadata": {},
   "outputs": [],
   "source": [
    "options = webdriver.ChromeOptions()\n",
    "options.add_argument(\"lang=ko_KR\") # 한국어!"
   ]
  },
  {
   "cell_type": "code",
   "execution_count": 7,
   "metadata": {},
   "outputs": [],
   "source": [
    "driver = webdriver.Chrome('chromedriver.exe', options = options)"
   ]
  },
  {
   "cell_type": "code",
   "execution_count": 38,
   "metadata": {},
   "outputs": [
    {
     "name": "stdout",
     "output_type": "stream",
     "text": [
      "[<div class=\"posts\">\n",
      "<div class=\"post\">\n",
      "<a href=\"http://charme-du-vin.com/2020/01/18058/\">\n",
      "<div class=\"category\">whisky, scoth, blended-malt</div>\n",
      "<div class=\"eyecatch\">\n",
      "<img src=\"http://charme-du-vin.com/wp/wp-content/uploads/2020/01/WIN_20200123_14_49_49_Pro-280x280.jpg\"/>\n",
      "</div>\n",
      "<div class=\"post_title\">ジョニーウォーカー　ゲームオブスローンズ　アソングオブアイス…</div>\n",
      "</a>\n",
      "</div>\n",
      "<div class=\"post\">\n",
      "<a href=\"http://charme-du-vin.com/2020/01/18054/\">\n",
      "<div class=\"category\">whisky, single-malt, scoth, highland</div>\n",
      "<div class=\"eyecatch\">\n",
      "<img src=\"http://charme-du-vin.com/wp/wp-content/uploads/2020/01/WIN_20200123_14_49_05_Pro-280x280.jpg\"/>\n",
      "</div>\n",
      "<div class=\"post_title\">バルブレア２００５　４６°　７００ｍｌ / ７５０ｍｌ</div>\n",
      "</a>\n",
      "</div>\n",
      "<div class=\"post\">\n",
      "<a href=\"http://charme-du-vin.com/2020/01/18018/\">\n",
      "<div class=\"category\">whisky, cambel-town, single-malt, scoth</div>\n",
      "<div class=\"eyecatch\">\n",
      "<img src=\"http://charme-du-vin.com/wp/wp-content/uploads/2020/01/WIN_20200117_15_26_33_Pro-280x280.jpg\"/>\n",
      "</div>\n",
      "<div class=\"post_title\">スプリングバンク　１５Ｙ　４６°</div>\n",
      "</a>\n",
      "</div>\n",
      "<div class=\"post\">\n",
      "<a href=\"http://charme-du-vin.com/2020/01/18014/\">\n",
      "<div class=\"category\">isly, whisky, single-malt, scoth</div>\n",
      "<div class=\"eyecatch\">\n",
      "<img src=\"http://charme-du-vin.com/wp/wp-content/uploads/2020/01/WIN_20200117_15_26_09_Pro-280x280.jpg\"/>\n",
      "</div>\n",
      "<div class=\"post_title\">ボウモア　１８Ｙ　ディープ＆コンプレックス　４３°</div>\n",
      "</a>\n",
      "</div>\n",
      "<div class=\"post\">\n",
      "<a href=\"http://charme-du-vin.com/2020/01/17939/\">\n",
      "<div class=\"category\">sale, whisky, tequila-rum, bottlers</div>\n",
      "<div class=\"eyecatch\">\n",
      "<img src=\"http://charme-du-vin.com/wp/wp-content/uploads/2020/01/WIN_20200115_14_06_47_Pro-280x280.jpg\"/>\n",
      "</div>\n",
      "<div class=\"post_title\">ＳＡＬＥ！！　サマローリ　カリラ　２００７　４９° / トリ…</div>\n",
      "</a>\n",
      "</div>\n",
      "<div class=\"post\">\n",
      "<a href=\"http://charme-du-vin.com/2020/01/17935/\">\n",
      "<div class=\"category\">sale, whisky, single-malt, scoth, speyside</div>\n",
      "<div class=\"eyecatch\">\n",
      "<img src=\"http://charme-du-vin.com/wp/wp-content/uploads/2020/01/WIN_20200115_14_05_51_Pro-280x280.jpg\"/>\n",
      "</div>\n",
      "<div class=\"post_title\">ＳＡＬＥ！！　グレンアラヒー　１９９０　オロロソパンチョン　…</div>\n",
      "</a>\n",
      "</div>\n",
      "<div class=\"post\">\n",
      "<a href=\"http://charme-du-vin.com/2020/01/17922/\">\n",
      "<div class=\"category\">american, whisky</div>\n",
      "<div class=\"eyecatch\">\n",
      "<img src=\"http://charme-du-vin.com/wp/wp-content/uploads/2020/01/WIN_20200110_13_51_09_Pro-280x280.jpg\"/>\n",
      "</div>\n",
      "<div class=\"post_title\">ヴェリーオールドセントニック　ライ　エンシェントカスク　８Ｙ…</div>\n",
      "</a>\n",
      "</div>\n",
      "<div class=\"post\">\n",
      "<a href=\"http://charme-du-vin.com/2020/01/17918/\">\n",
      "<div class=\"category\">american, whisky</div>\n",
      "<div class=\"eyecatch\">\n",
      "<img src=\"http://charme-du-vin.com/wp/wp-content/uploads/2020/01/WIN_20200110_13_40_30_Pro-280x280.jpg\"/>\n",
      "</div>\n",
      "<div class=\"post_title\">レアパーフェクション　１４Ｙ　５０．３５°</div>\n",
      "</a>\n",
      "</div>\n",
      "<div class=\"post\">\n",
      "<a href=\"http://charme-du-vin.com/2020/01/17906/\">\n",
      "<div class=\"category\">american, whisky</div>\n",
      "<div class=\"eyecatch\">\n",
      "<img src=\"http://charme-du-vin.com/wp/wp-content/uploads/2020/01/WIN_20200110_13_38_05_Pro-280x280.jpg\"/>\n",
      "</div>\n",
      "<div class=\"post_title\">ワイルドターキー　ラッセルズリザーヴ　１０Ｙ　４５°</div>\n",
      "</a>\n",
      "</div>\n",
      "<div class=\"post\">\n",
      "<a href=\"http://charme-du-vin.com/2020/01/17903/\">\n",
      "<div class=\"category\">american, whisky</div>\n",
      "<div class=\"eyecatch\">\n",
      "<img src=\"http://charme-du-vin.com/wp/wp-content/uploads/2020/01/WIN_20200110_13_36_42_Pro-280x280.jpg\"/>\n",
      "</div>\n",
      "<div class=\"post_title\">ビブ＆タッカー　スモールバッチ　６Ｙ　４６°</div>\n",
      "</a>\n",
      "</div>\n",
      "<div class=\"post\">\n",
      "<a href=\"http://charme-du-vin.com/2020/01/17900/\">\n",
      "<div class=\"category\">american, whisky</div>\n",
      "<div class=\"eyecatch\">\n",
      "<img src=\"http://charme-du-vin.com/wp/wp-content/uploads/2020/01/WIN_20200110_13_36_13_Pro-280x280.jpg\"/>\n",
      "</div>\n",
      "<div class=\"post_title\">スタッグＪＲ　ケンタッキーストレートバーボン　６３．２０°</div>\n",
      "</a>\n",
      "</div>\n",
      "<div class=\"post\">\n",
      "<a href=\"http://charme-du-vin.com/2020/01/17896/\">\n",
      "<div class=\"category\">islands, whisky, single-malt, scoth</div>\n",
      "<div class=\"eyecatch\">\n",
      "<img src=\"http://charme-du-vin.com/wp/wp-content/uploads/2020/01/WIN_20200110_13_39_42_Pro-280x280.jpg\"/>\n",
      "</div>\n",
      "<div class=\"post_title\">タリスカー　１８Ｙ　４５．８°</div>\n",
      "</a>\n",
      "</div>\n",
      "</div>]\n",
      "[<div class=\"posts\">\n",
      "<div class=\"post\">\n",
      "<a href=\"http://charme-du-vin.com/2020/01/17893/\">\n",
      "<div class=\"category\">whisky, cambel-town, single-malt, scoth</div>\n",
      "<div class=\"eyecatch\">\n",
      "<img src=\"http://charme-du-vin.com/wp/wp-content/uploads/2020/01/WIN_20200110_13_35_27_Pro-280x280.jpg\"/>\n",
      "</div>\n",
      "<div class=\"post_title\">スプリングバンク　１２Ｙ　カスクストレングス　５４．８°</div>\n",
      "</a>\n",
      "</div>\n",
      "<div class=\"post\">\n",
      "<a href=\"http://charme-du-vin.com/2020/01/17882/\">\n",
      "<div class=\"category\">isly, whisky, single-malt, scoth</div>\n",
      "<div class=\"eyecatch\">\n",
      "<img src=\"http://charme-du-vin.com/wp/wp-content/uploads/2020/01/WIN_20200109_13_50_50_Pro-280x280.jpg\"/>\n",
      "</div>\n",
      "<div class=\"post_title\">ボウモア　ダーケスト　１５Ｙ　４３° / ラガヴーリン　ディ…</div>\n",
      "</a>\n",
      "</div>\n",
      "<div class=\"post\">\n",
      "<a href=\"http://charme-du-vin.com/2020/01/17879/\">\n",
      "<div class=\"category\">whisky, single-malt, scoth, highland</div>\n",
      "<div class=\"eyecatch\">\n",
      "<img src=\"http://charme-du-vin.com/wp/wp-content/uploads/2020/01/WIN_20200109_13_49_26_Pro-280x280.jpg\"/>\n",
      "</div>\n",
      "<div class=\"post_title\">グレンドロナック　１５Ｙ　リヴァイヴァル　４６°</div>\n",
      "</a>\n",
      "</div>\n",
      "<div class=\"post\">\n",
      "<a href=\"http://charme-du-vin.com/2020/01/17876/\">\n",
      "<div class=\"category\">whisky, single-malt, scoth, speyside</div>\n",
      "<div class=\"eyecatch\">\n",
      "<img src=\"http://charme-du-vin.com/wp/wp-content/uploads/2020/01/WIN_20200109_13_48_05_Pro-280x280.jpg\"/>\n",
      "</div>\n",
      "<div class=\"post_title\">グレンフィディック　１８Ｙ　スモールバッチリザーヴ　４０°</div>\n",
      "</a>\n",
      "</div>\n",
      "<div class=\"post\">\n",
      "<a href=\"http://charme-du-vin.com/2020/01/17873/\">\n",
      "<div class=\"category\">whisky, scoth, blended-malt</div>\n",
      "<div class=\"eyecatch\">\n",
      "<img src=\"http://charme-du-vin.com/wp/wp-content/uploads/2020/01/WIN_20200109_13_47_08_Pro-280x280.jpg\"/>\n",
      "</div>\n",
      "<div class=\"post_title\">ジョニーウォーカー　Ｘ．Ｒ　２１Ｙ　４０°</div>\n",
      "</a>\n",
      "</div>\n",
      "<div class=\"post\">\n",
      "<a href=\"http://charme-du-vin.com/2020/01/17866/\">\n",
      "<div class=\"category\">whisky, cambel-town, single-malt, scoth</div>\n",
      "<div class=\"eyecatch\">\n",
      "<img src=\"http://charme-du-vin.com/wp/wp-content/uploads/2020/01/WIN_20200108_13_40_56_Pro-280x280.jpg\"/>\n",
      "</div>\n",
      "<div class=\"post_title\">キルケラン　１２Ｙ　４６°</div>\n",
      "</a>\n",
      "</div>\n",
      "<div class=\"post\">\n",
      "<a href=\"http://charme-du-vin.com/2020/01/17857/\">\n",
      "<div class=\"category\">whisky</div>\n",
      "<div class=\"eyecatch\">\n",
      "<img src=\"http://charme-du-vin.com/wp/wp-content/uploads/2020/01/WIN_20200108_13_38_36_Pro-280x280.jpg\"/>\n",
      "</div>\n",
      "<div class=\"post_title\">オマー　シェリーカスク　４６°</div>\n",
      "</a>\n",
      "</div>\n",
      "<div class=\"post\">\n",
      "<a href=\"http://charme-du-vin.com/2020/01/17854/\">\n",
      "<div class=\"category\">american, whisky</div>\n",
      "<div class=\"eyecatch\">\n",
      "<img src=\"http://charme-du-vin.com/wp/wp-content/uploads/2020/01/WIN_20200108_13_37_42_Pro-280x280.jpg\"/>\n",
      "</div>\n",
      "<div class=\"post_title\">ワイルドターキー　ロングブランチ　４３°</div>\n",
      "</a>\n",
      "</div>\n",
      "<div class=\"post\">\n",
      "<a href=\"http://charme-du-vin.com/2020/01/17851/\">\n",
      "<div class=\"category\">american, whisky</div>\n",
      "<div class=\"eyecatch\">\n",
      "<img src=\"http://charme-du-vin.com/wp/wp-content/uploads/2020/01/WIN_20200108_13_36_57_Pro-280x280.jpg\"/>\n",
      "</div>\n",
      "<div class=\"post_title\">ストラナハン　コロラドウイスキー　４７°</div>\n",
      "</a>\n",
      "</div>\n",
      "<div class=\"post\">\n",
      "<a href=\"http://charme-du-vin.com/2020/01/17848/\">\n",
      "<div class=\"category\">irish, whisky</div>\n",
      "<div class=\"eyecatch\">\n",
      "<img src=\"http://charme-du-vin.com/wp/wp-content/uploads/2020/01/WIN_20200108_13_36_17_Pro-280x280.jpg\"/>\n",
      "</div>\n",
      "<div class=\"post_title\">パワーズ　シグネチャー　リリース　４６°</div>\n",
      "</a>\n",
      "</div>\n",
      "<div class=\"post\">\n",
      "<a href=\"http://charme-du-vin.com/2020/01/17845/\">\n",
      "<div class=\"category\">islands, whisky, single-malt, scoth</div>\n",
      "<div class=\"eyecatch\">\n",
      "<img src=\"http://charme-du-vin.com/wp/wp-content/uploads/2020/01/WIN_20200108_13_35_22_Pro-280x280.jpg\"/>\n",
      "</div>\n",
      "<div class=\"post_title\">ハイランドパーク　エイナー　４０°　３５０ｍｌ</div>\n",
      "</a>\n",
      "</div>\n",
      "<div class=\"post\">\n",
      "<a href=\"http://charme-du-vin.com/2020/01/17842/\">\n",
      "<div class=\"category\">whisky, single-malt, scoth, speyside</div>\n",
      "<div class=\"eyecatch\">\n",
      "<img src=\"http://charme-du-vin.com/wp/wp-content/uploads/2020/01/WIN_20200108_13_34_22_Pro-280x280.jpg\"/>\n",
      "</div>\n",
      "<div class=\"post_title\">バルヴェニー　１４Ｙ　ピーテッドトリプルカスク　４８．３°</div>\n",
      "</a>\n",
      "</div>\n",
      "</div>]\n"
     ]
    }
   ],
   "source": [
    "for i in range(1, 3):\n",
    "    url = 'http://charme-du-vin.com/category/whisky/page/{0}/'.format(i)\n",
    "    driver.get(url)\n",
    "    html = driver.page_source\n",
    "    soup = BeautifulSoup(html, 'html.parser')\n",
    "    contents = soup.select('.posts')\n",
    "    #content.contents[0]\n",
    "    print(content)\n",
    "    s = Series(data=contents)\n",
    "    s.to_excel(\"data.xlsx\")"
   ]
  },
  {
   "cell_type": "code",
   "execution_count": 31,
   "metadata": {},
   "outputs": [],
   "source": [
    "s = Series(data=content)\n",
    "s.to_excel(\"data.xlsx\")"
   ]
  },
  {
   "cell_type": "code",
   "execution_count": 8,
   "metadata": {},
   "outputs": [],
   "source": [
    "url = 'http://charme-du-vin.com/2020/01/18018/'\n",
    "driver.get(url)"
   ]
  },
  {
   "cell_type": "code",
   "execution_count": 9,
   "metadata": {},
   "outputs": [],
   "source": [
    "html = driver.page_source"
   ]
  },
  {
   "cell_type": "code",
   "execution_count": 10,
   "metadata": {},
   "outputs": [],
   "source": [
    "soup = BeautifulSoup(html, 'html.parser')"
   ]
  },
  {
   "cell_type": "code",
   "execution_count": 11,
   "metadata": {},
   "outputs": [],
   "source": [
    "contents = soup.select('div.content > p > strong ')"
   ]
  },
  {
   "cell_type": "code",
   "execution_count": 14,
   "metadata": {},
   "outputs": [
    {
     "name": "stdout",
     "output_type": "stream",
     "text": [
      "<strong>￥１１,０００（税別）</strong>\n"
     ]
    }
   ],
   "source": [
    "print(contents[1])"
   ]
  },
  {
   "cell_type": "code",
   "execution_count": 131,
   "metadata": {},
   "outputs": [],
   "source": [
    "content = contents[0]"
   ]
  },
  {
   "cell_type": "code",
   "execution_count": 177,
   "metadata": {},
   "outputs": [],
   "source": [
    "#content"
   ]
  },
  {
   "cell_type": "code",
   "execution_count": 16,
   "metadata": {},
   "outputs": [],
   "source": [
    "title = soup.select('.date')[0].text"
   ]
  },
  {
   "cell_type": "code",
   "execution_count": 17,
   "metadata": {},
   "outputs": [
    {
     "data": {
      "text/plain": [
       "'updated : 2020年1月17日'"
      ]
     },
     "execution_count": 17,
     "metadata": {},
     "output_type": "execute_result"
    }
   ],
   "source": [
    "title"
   ]
  },
  {
   "cell_type": "code",
   "execution_count": 114,
   "metadata": {},
   "outputs": [],
   "source": [
    "category = content.select('.category')[0].text"
   ]
  },
  {
   "cell_type": "code",
   "execution_count": 115,
   "metadata": {},
   "outputs": [
    {
     "data": {
      "text/plain": [
       "'whisky, cambel-town, single-malt, scoth'"
      ]
     },
     "execution_count": 115,
     "metadata": {},
     "output_type": "execute_result"
    }
   ],
   "source": [
    "category"
   ]
  },
  {
   "cell_type": "code",
   "execution_count": 121,
   "metadata": {},
   "outputs": [
    {
     "data": {
      "text/plain": [
       "'http://charme-du-vin.com/2020/01/18018/'"
      ]
     },
     "execution_count": 121,
     "metadata": {},
     "output_type": "execute_result"
    }
   ],
   "source": [
    "links = content.select('div.post > a')[0]['href']\n",
    "links"
   ]
  },
  {
   "cell_type": "code",
   "execution_count": 123,
   "metadata": {},
   "outputs": [
    {
     "data": {
      "text/plain": [
       "'http://charme-du-vin.com/wp/wp-content/uploads/2020/01/WIN_20200117_15_26_33_Pro-280x280.jpg'"
      ]
     },
     "execution_count": 123,
     "metadata": {},
     "output_type": "execute_result"
    }
   ],
   "source": [
    "small_imgs = content.select('div.eyecatch > img')[0]['src']\n",
    "small_imgs"
   ]
  },
  {
   "cell_type": "code",
   "execution_count": 20,
   "metadata": {},
   "outputs": [
    {
     "name": "stdout",
     "output_type": "stream",
     "text": [
      "http://charme-du-vin.com/2015/05/194/\n",
      "http://charme-du-vin.com/2015/05/192/\n",
      "http://charme-du-vin.com/2015/05/190/\n",
      "http://charme-du-vin.com/2015/05/188/\n",
      "http://charme-du-vin.com/2015/05/133/\n",
      "http://charme-du-vin.com/2015/05/129/\n",
      "http://charme-du-vin.com/2015/05/119/\n",
      "http://charme-du-vin.com/2015/05/117/\n",
      "http://charme-du-vin.com/2015/05/113/\n",
      "http://charme-du-vin.com/2015/05/111/\n",
      "http://charme-du-vin.com/2015/05/109/\n"
     ]
    },
    {
     "ename": "IndexError",
     "evalue": "list index out of range",
     "output_type": "error",
     "traceback": [
      "\u001b[1;31m---------------------------------------------------------------------------\u001b[0m",
      "\u001b[1;31mIndexError\u001b[0m                                Traceback (most recent call last)",
      "\u001b[1;32m<ipython-input-20-d0e6dbea0f8d>\u001b[0m in \u001b[0;36m<module>\u001b[1;34m\u001b[0m\n\u001b[0;32m      1\u001b[0m \u001b[1;32mfor\u001b[0m \u001b[0mi\u001b[0m \u001b[1;32min\u001b[0m \u001b[0mrange\u001b[0m\u001b[1;33m(\u001b[0m\u001b[1;36m1\u001b[0m\u001b[1;33m,\u001b[0m \u001b[1;36m1000\u001b[0m\u001b[1;33m)\u001b[0m\u001b[1;33m:\u001b[0m\u001b[1;33m\u001b[0m\u001b[0m\n\u001b[1;32m----> 2\u001b[1;33m     \u001b[0mlinks\u001b[0m \u001b[1;33m=\u001b[0m \u001b[0mcontent\u001b[0m\u001b[1;33m.\u001b[0m\u001b[0mselect\u001b[0m\u001b[1;33m(\u001b[0m\u001b[1;34m'div.post > a'\u001b[0m\u001b[1;33m)\u001b[0m\u001b[1;33m[\u001b[0m\u001b[0mi\u001b[0m\u001b[1;33m]\u001b[0m\u001b[1;33m[\u001b[0m\u001b[1;34m'href'\u001b[0m\u001b[1;33m]\u001b[0m\u001b[1;33m\u001b[0m\u001b[0m\n\u001b[0m\u001b[0;32m      3\u001b[0m     \u001b[0mprint\u001b[0m\u001b[1;33m(\u001b[0m\u001b[0mlinks\u001b[0m\u001b[1;33m)\u001b[0m\u001b[1;33m\u001b[0m\u001b[0m\n",
      "\u001b[1;31mIndexError\u001b[0m: list index out of range"
     ]
    }
   ],
   "source": [
    "for i in range(1, 1000):\n",
    "    links = content.select('div.post > a')[i]['href']\n",
    "    print(links)"
   ]
  },
  {
   "cell_type": "code",
   "execution_count": 141,
   "metadata": {},
   "outputs": [
    {
     "data": {
      "text/plain": [
       "[<div class=\"posts\">\n",
       " <div class=\"post\">\n",
       " <a href=\"http://charme-du-vin.com/2020/01/18018/\">\n",
       " <div class=\"category\">whisky, cambel-town, single-malt, scoth</div>\n",
       " <div class=\"eyecatch\">\n",
       " <img src=\"http://charme-du-vin.com/wp/wp-content/uploads/2020/01/WIN_20200117_15_26_33_Pro-280x280.jpg\"/>\n",
       " </div>\n",
       " <div class=\"post_title\">スプリングバンク　１５Ｙ　４６°</div>\n",
       " </a>\n",
       " </div>\n",
       " <div class=\"post\">\n",
       " <a href=\"http://charme-du-vin.com/2020/01/18014/\">\n",
       " <div class=\"category\">isly, whisky, single-malt, scoth</div>\n",
       " <div class=\"eyecatch\">\n",
       " <img src=\"http://charme-du-vin.com/wp/wp-content/uploads/2020/01/WIN_20200117_15_26_09_Pro-280x280.jpg\"/>\n",
       " </div>\n",
       " <div class=\"post_title\">ボウモア　１８Ｙ　ディープ＆コンプレックス　４３°</div>\n",
       " </a>\n",
       " </div>\n",
       " <div class=\"post\">\n",
       " <a href=\"http://charme-du-vin.com/2020/01/17939/\">\n",
       " <div class=\"category\">sale, whisky, tequila-rum, bottlers</div>\n",
       " <div class=\"eyecatch\">\n",
       " <img src=\"http://charme-du-vin.com/wp/wp-content/uploads/2020/01/WIN_20200115_14_06_47_Pro-280x280.jpg\"/>\n",
       " </div>\n",
       " <div class=\"post_title\">ＳＡＬＥ！！　サマローリ　カリラ　２００７　４９° / トリ…</div>\n",
       " </a>\n",
       " </div>\n",
       " <div class=\"post\">\n",
       " <a href=\"http://charme-du-vin.com/2020/01/17935/\">\n",
       " <div class=\"category\">sale, whisky, single-malt, scoth, speyside</div>\n",
       " <div class=\"eyecatch\">\n",
       " <img src=\"http://charme-du-vin.com/wp/wp-content/uploads/2020/01/WIN_20200115_14_05_51_Pro-280x280.jpg\"/>\n",
       " </div>\n",
       " <div class=\"post_title\">ＳＡＬＥ！！　グレンアラヒー　１９９０　オロロソパンチョン　…</div>\n",
       " </a>\n",
       " </div>\n",
       " <div class=\"post\">\n",
       " <a href=\"http://charme-du-vin.com/2020/01/17922/\">\n",
       " <div class=\"category\">american, whisky</div>\n",
       " <div class=\"eyecatch\">\n",
       " <img src=\"http://charme-du-vin.com/wp/wp-content/uploads/2020/01/WIN_20200110_13_51_09_Pro-280x280.jpg\"/>\n",
       " </div>\n",
       " <div class=\"post_title\">ヴェリーオールドセントニック　ライ　エンシェントカスク　８Ｙ…</div>\n",
       " </a>\n",
       " </div>\n",
       " <div class=\"post\">\n",
       " <a href=\"http://charme-du-vin.com/2020/01/17918/\">\n",
       " <div class=\"category\">american, whisky</div>\n",
       " <div class=\"eyecatch\">\n",
       " <img src=\"http://charme-du-vin.com/wp/wp-content/uploads/2020/01/WIN_20200110_13_40_30_Pro-280x280.jpg\"/>\n",
       " </div>\n",
       " <div class=\"post_title\">レアパーフェクション　１４Ｙ　５０．３５°</div>\n",
       " </a>\n",
       " </div>\n",
       " <div class=\"post\">\n",
       " <a href=\"http://charme-du-vin.com/2020/01/17906/\">\n",
       " <div class=\"category\">american, whisky</div>\n",
       " <div class=\"eyecatch\">\n",
       " <img src=\"http://charme-du-vin.com/wp/wp-content/uploads/2020/01/WIN_20200110_13_38_05_Pro-280x280.jpg\"/>\n",
       " </div>\n",
       " <div class=\"post_title\">ワイルドターキー　ラッセルズリザーヴ　１０Ｙ　４５°</div>\n",
       " </a>\n",
       " </div>\n",
       " <div class=\"post\">\n",
       " <a href=\"http://charme-du-vin.com/2020/01/17903/\">\n",
       " <div class=\"category\">american, whisky</div>\n",
       " <div class=\"eyecatch\">\n",
       " <img src=\"http://charme-du-vin.com/wp/wp-content/uploads/2020/01/WIN_20200110_13_36_42_Pro-280x280.jpg\"/>\n",
       " </div>\n",
       " <div class=\"post_title\">ビブ＆タッカー　スモールバッチ　６Ｙ　４６°</div>\n",
       " </a>\n",
       " </div>\n",
       " <div class=\"post\">\n",
       " <a href=\"http://charme-du-vin.com/2020/01/17900/\">\n",
       " <div class=\"category\">american, whisky</div>\n",
       " <div class=\"eyecatch\">\n",
       " <img src=\"http://charme-du-vin.com/wp/wp-content/uploads/2020/01/WIN_20200110_13_36_13_Pro-280x280.jpg\"/>\n",
       " </div>\n",
       " <div class=\"post_title\">スタッグＪＲ　ケンタッキーストレートバーボン　６３．２０°</div>\n",
       " </a>\n",
       " </div>\n",
       " <div class=\"post\">\n",
       " <a href=\"http://charme-du-vin.com/2020/01/17896/\">\n",
       " <div class=\"category\">islands, whisky, single-malt, scoth</div>\n",
       " <div class=\"eyecatch\">\n",
       " <img src=\"http://charme-du-vin.com/wp/wp-content/uploads/2020/01/WIN_20200110_13_39_42_Pro-280x280.jpg\"/>\n",
       " </div>\n",
       " <div class=\"post_title\">タリスカー　１８Ｙ　４５．８°</div>\n",
       " </a>\n",
       " </div>\n",
       " <div class=\"post\">\n",
       " <a href=\"http://charme-du-vin.com/2020/01/17893/\">\n",
       " <div class=\"category\">whisky, cambel-town, single-malt, scoth</div>\n",
       " <div class=\"eyecatch\">\n",
       " <img src=\"http://charme-du-vin.com/wp/wp-content/uploads/2020/01/WIN_20200110_13_35_27_Pro-280x280.jpg\"/>\n",
       " </div>\n",
       " <div class=\"post_title\">スプリングバンク　１２Ｙ　カスクストレングス　５４．８°</div>\n",
       " </a>\n",
       " </div>\n",
       " <div class=\"post\">\n",
       " <a href=\"http://charme-du-vin.com/2020/01/17882/\">\n",
       " <div class=\"category\">isly, whisky, single-malt, scoth</div>\n",
       " <div class=\"eyecatch\">\n",
       " <img src=\"http://charme-du-vin.com/wp/wp-content/uploads/2020/01/WIN_20200109_13_50_50_Pro-280x280.jpg\"/>\n",
       " </div>\n",
       " <div class=\"post_title\">ボウモア　ダーケスト　１５Ｙ　４３° / ラガヴーリン　ディ…</div>\n",
       " </a>\n",
       " </div>\n",
       " </div>]"
      ]
     },
     "execution_count": 141,
     "metadata": {},
     "output_type": "execute_result"
    }
   ],
   "source": [
    "contents"
   ]
  },
  {
   "cell_type": "code",
   "execution_count": null,
   "metadata": {},
   "outputs": [],
   "source": []
  }
 ],
 "metadata": {
  "kernelspec": {
   "display_name": "Python 3",
   "language": "python",
   "name": "python3"
  },
  "language_info": {
   "codemirror_mode": {
    "name": "ipython",
    "version": 3
   },
   "file_extension": ".py",
   "mimetype": "text/x-python",
   "name": "python",
   "nbconvert_exporter": "python",
   "pygments_lexer": "ipython3",
   "version": "3.7.0b2"
  }
 },
 "nbformat": 4,
 "nbformat_minor": 4
}
